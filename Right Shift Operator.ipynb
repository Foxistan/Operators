{
 "cells": [
  {
   "cell_type": "code",
   "execution_count": 2,
   "id": "26b91b9a-ba19-4188-a1b1-b5431ef617cb",
   "metadata": {},
   "outputs": [
    {
     "data": {
      "text/plain": [
       "4"
      ]
     },
     "execution_count": 2,
     "metadata": {},
     "output_type": "execute_result"
    }
   ],
   "source": [
    "34>>3"
   ]
  },
  {
   "cell_type": "code",
   "execution_count": 4,
   "id": "f11826f9-7eb1-4b3f-8e27-e048858236fc",
   "metadata": {},
   "outputs": [
    {
     "data": {
      "text/plain": [
       "'0b100010'"
      ]
     },
     "execution_count": 4,
     "metadata": {},
     "output_type": "execute_result"
    }
   ],
   "source": [
    "bin(34)"
   ]
  },
  {
   "cell_type": "code",
   "execution_count": 8,
   "id": "6beea2fc-4549-4b57-b651-ccafbfcf1884",
   "metadata": {},
   "outputs": [
    {
     "name": "stdout",
     "output_type": "stream",
     "text": [
      "This operater moves to right direction in thier binary value for given times as per above example\n"
     ]
    }
   ],
   "source": [
    "print ('This operater moves to right direction in thier binary value for given times as per above example')"
   ]
  },
  {
   "cell_type": "code",
   "execution_count": 15,
   "id": "c936e8b3-e2c5-4b50-8ee9-e10b3da347df",
   "metadata": {},
   "outputs": [
    {
     "data": {
      "text/plain": [
       "0"
      ]
     },
     "execution_count": 15,
     "metadata": {},
     "output_type": "execute_result"
    }
   ],
   "source": [
    "28>>5"
   ]
  },
  {
   "cell_type": "code",
   "execution_count": 16,
   "id": "048e1bab-14da-41ce-87b2-4a1e41c8075e",
   "metadata": {},
   "outputs": [
    {
     "data": {
      "text/plain": [
       "'0b11100'"
      ]
     },
     "execution_count": 16,
     "metadata": {},
     "output_type": "execute_result"
    }
   ],
   "source": [
    "bin(28)"
   ]
  },
  {
   "cell_type": "code",
   "execution_count": 18,
   "id": "f287ea48-731c-4120-b588-573bf20677e5",
   "metadata": {},
   "outputs": [
    {
     "name": "stdout",
     "output_type": "stream",
     "text": [
      "bin of 28 consist of 5 bits but already moves to right side for 5 time which becomes 0\n"
     ]
    }
   ],
   "source": [
    "print ('bin of 28 consist of 5 bits but already moves to right side for 5 time which becomes 0')"
   ]
  },
  {
   "cell_type": "code",
   "execution_count": 21,
   "id": "f6377f6c-3d17-465f-aa7c-8540dc963dfc",
   "metadata": {},
   "outputs": [
    {
     "data": {
      "text/plain": [
       "2"
      ]
     },
     "execution_count": 21,
     "metadata": {},
     "output_type": "execute_result"
    }
   ],
   "source": [
    "69>>5"
   ]
  },
  {
   "cell_type": "code",
   "execution_count": 23,
   "id": "eb1b6f05-00f8-4f0d-a4b0-16a5eea06126",
   "metadata": {},
   "outputs": [
    {
     "data": {
      "text/plain": [
       "'0b1000101'"
      ]
     },
     "execution_count": 23,
     "metadata": {},
     "output_type": "execute_result"
    }
   ],
   "source": [
    "bin(69)"
   ]
  },
  {
   "cell_type": "code",
   "execution_count": 26,
   "id": "57d83403-877e-453b-982c-8f1b0e8639c5",
   "metadata": {},
   "outputs": [
    {
     "name": "stdout",
     "output_type": "stream",
     "text": [
      "Binary of 69 moves 5 times to right side in thier binary value which lefts with 10 & Decimal Equivalent of 10 is 2\n"
     ]
    }
   ],
   "source": [
    "print ('Binary of 69 moves 5 times to right side in thier binary value which lefts with 10 & Decimal Equivalent of 10 is 2')"
   ]
  },
  {
   "cell_type": "code",
   "execution_count": null,
   "id": "a4d70418-57c1-4d17-a971-3270affdba16",
   "metadata": {},
   "outputs": [],
   "source": []
  }
 ],
 "metadata": {
  "kernelspec": {
   "display_name": "Python 3 (ipykernel)",
   "language": "python",
   "name": "python3"
  },
  "language_info": {
   "codemirror_mode": {
    "name": "ipython",
    "version": 3
   },
   "file_extension": ".py",
   "mimetype": "text/x-python",
   "name": "python",
   "nbconvert_exporter": "python",
   "pygments_lexer": "ipython3",
   "version": "3.10.8"
  }
 },
 "nbformat": 4,
 "nbformat_minor": 5
}
