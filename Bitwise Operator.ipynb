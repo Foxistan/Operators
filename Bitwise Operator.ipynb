{
 "cells": [
  {
   "cell_type": "code",
   "execution_count": 2,
   "id": "f2963d71-693f-40e5-9b08-e72a81e37dcc",
   "metadata": {},
   "outputs": [
    {
     "name": "stdout",
     "output_type": "stream",
     "text": [
      "This converts the data set into Bit / Binary then try to do operation \n"
     ]
    }
   ],
   "source": [
    "print ('This converts the data set into Bit / Binary then try to do operation ')"
   ]
  },
  {
   "cell_type": "code",
   "execution_count": 4,
   "id": "adb0f2c7-8a27-4045-8ed1-ed2d97c9231e",
   "metadata": {},
   "outputs": [
    {
     "data": {
      "text/plain": [
       "3"
      ]
     },
     "execution_count": 4,
     "metadata": {},
     "output_type": "execute_result"
    }
   ],
   "source": [
    "23 & 3"
   ]
  },
  {
   "cell_type": "code",
   "execution_count": 6,
   "id": "3162a5a3-d971-4bd8-9373-bb83a73e629e",
   "metadata": {},
   "outputs": [
    {
     "data": {
      "text/plain": [
       "'0b10111'"
      ]
     },
     "execution_count": 6,
     "metadata": {},
     "output_type": "execute_result"
    }
   ],
   "source": [
    "bin(23)"
   ]
  },
  {
   "cell_type": "code",
   "execution_count": 8,
   "id": "6e171a73-2e78-4e42-9277-446d3e8eac69",
   "metadata": {},
   "outputs": [
    {
     "data": {
      "text/plain": [
       "'0b11'"
      ]
     },
     "execution_count": 8,
     "metadata": {},
     "output_type": "execute_result"
    }
   ],
   "source": [
    "bin(3)"
   ]
  },
  {
   "cell_type": "code",
   "execution_count": 10,
   "id": "04c0c2fd-7ce6-4883-ad89-42f4dc52cda8",
   "metadata": {},
   "outputs": [
    {
     "data": {
      "text/plain": [
       "32"
      ]
     },
     "execution_count": 10,
     "metadata": {},
     "output_type": "execute_result"
    }
   ],
   "source": [
    "32 & 32"
   ]
  },
  {
   "cell_type": "code",
   "execution_count": 12,
   "id": "fdc341ef-84ea-4f5f-8249-db6d953d9322",
   "metadata": {},
   "outputs": [
    {
     "data": {
      "text/plain": [
       "'0b100000'"
      ]
     },
     "execution_count": 12,
     "metadata": {},
     "output_type": "execute_result"
    }
   ],
   "source": [
    "bin(32)"
   ]
  },
  {
   "cell_type": "code",
   "execution_count": 14,
   "id": "24baa022-dc80-4945-9b5d-5c8e25e9de55",
   "metadata": {},
   "outputs": [
    {
     "data": {
      "text/plain": [
       "4"
      ]
     },
     "execution_count": 14,
     "metadata": {},
     "output_type": "execute_result"
    }
   ],
   "source": [
    "12 & 4"
   ]
  },
  {
   "cell_type": "code",
   "execution_count": 16,
   "id": "05ac4bd7-20bc-4785-8ea9-dd7dbb2b40fc",
   "metadata": {},
   "outputs": [
    {
     "data": {
      "text/plain": [
       "'0b1100'"
      ]
     },
     "execution_count": 16,
     "metadata": {},
     "output_type": "execute_result"
    }
   ],
   "source": [
    "bin(12)"
   ]
  },
  {
   "cell_type": "code",
   "execution_count": 18,
   "id": "7bd881c5-cb30-4ee9-b646-2b7670c9c0de",
   "metadata": {},
   "outputs": [
    {
     "data": {
      "text/plain": [
       "'0b100'"
      ]
     },
     "execution_count": 18,
     "metadata": {},
     "output_type": "execute_result"
    }
   ],
   "source": [
    "bin(4)"
   ]
  },
  {
   "cell_type": "code",
   "execution_count": 20,
   "id": "7b19b118-940e-499e-9112-64718998b4bc",
   "metadata": {},
   "outputs": [
    {
     "name": "stdout",
     "output_type": "stream",
     "text": [
      "Apply \"AND\" table to binary values & take out the Decimal Equivalent of remaining\n"
     ]
    }
   ],
   "source": [
    "print ('Apply \"AND\" table to binary values & take out the Decimal Equivalent of remaining')"
   ]
  },
  {
   "cell_type": "code",
   "execution_count": 22,
   "id": "248d681b-2099-46a6-8de8-c25b3db52270",
   "metadata": {},
   "outputs": [
    {
     "data": {
      "text/plain": [
       "23"
      ]
     },
     "execution_count": 22,
     "metadata": {},
     "output_type": "execute_result"
    }
   ],
   "source": [
    "23 | 3"
   ]
  },
  {
   "cell_type": "code",
   "execution_count": 24,
   "id": "4fa709d4-03c6-48d9-8460-e019e934ab38",
   "metadata": {},
   "outputs": [
    {
     "data": {
      "text/plain": [
       "'0b10111'"
      ]
     },
     "execution_count": 24,
     "metadata": {},
     "output_type": "execute_result"
    }
   ],
   "source": [
    "bin(23)"
   ]
  },
  {
   "cell_type": "code",
   "execution_count": 25,
   "id": "3e2b30d0-05af-4cb0-b7fb-837cff39e893",
   "metadata": {},
   "outputs": [
    {
     "data": {
      "text/plain": [
       "'0b11'"
      ]
     },
     "execution_count": 25,
     "metadata": {},
     "output_type": "execute_result"
    }
   ],
   "source": [
    "bin(3)"
   ]
  },
  {
   "cell_type": "code",
   "execution_count": 27,
   "id": "eb014fb2-10d9-4b93-b3bf-be873e230202",
   "metadata": {},
   "outputs": [
    {
     "name": "stdout",
     "output_type": "stream",
     "text": [
      " This sign \"|\" is considered as \"OR\"\n"
     ]
    }
   ],
   "source": [
    "print (' This sign \"|\" is considered as \"OR\"')"
   ]
  },
  {
   "cell_type": "code",
   "execution_count": 28,
   "id": "a8f60912-56fd-4752-a92e-64d6be512e12",
   "metadata": {},
   "outputs": [
    {
     "name": "stdout",
     "output_type": "stream",
     "text": [
      "Apply \"OR\" table to binary values & take out the Decimal Equivalent of remaining\n"
     ]
    }
   ],
   "source": [
    "print ('Apply \"OR\" table to binary values & take out the Decimal Equivalent of remaining')"
   ]
  }
 ],
 "metadata": {
  "kernelspec": {
   "display_name": "Python 3 (ipykernel)",
   "language": "python",
   "name": "python3"
  },
  "language_info": {
   "codemirror_mode": {
    "name": "ipython",
    "version": 3
   },
   "file_extension": ".py",
   "mimetype": "text/x-python",
   "name": "python",
   "nbconvert_exporter": "python",
   "pygments_lexer": "ipython3",
   "version": "3.10.8"
  }
 },
 "nbformat": 4,
 "nbformat_minor": 5
}
