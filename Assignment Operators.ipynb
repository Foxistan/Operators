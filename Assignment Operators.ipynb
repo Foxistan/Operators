{
 "cells": [
  {
   "cell_type": "code",
   "execution_count": 91,
   "id": "2b0c0cc8-7200-45f2-b790-720d223efbfa",
   "metadata": {},
   "outputs": [],
   "source": [
    "a = 10"
   ]
  },
  {
   "cell_type": "code",
   "execution_count": 92,
   "id": "24bd8850-a534-4a50-956c-ddf9faabb8a9",
   "metadata": {},
   "outputs": [
    {
     "data": {
      "text/plain": [
       "10"
      ]
     },
     "execution_count": 92,
     "metadata": {},
     "output_type": "execute_result"
    }
   ],
   "source": [
    "a"
   ]
  },
  {
   "cell_type": "code",
   "execution_count": 93,
   "id": "5aea8fc9-204a-4e01-9a69-2cab66c685d8",
   "metadata": {},
   "outputs": [],
   "source": [
    "a = a + 20"
   ]
  },
  {
   "cell_type": "code",
   "execution_count": 94,
   "id": "ecee2fed-e19c-4a43-9ba2-e166a0bf783c",
   "metadata": {},
   "outputs": [
    {
     "data": {
      "text/plain": [
       "30"
      ]
     },
     "execution_count": 94,
     "metadata": {},
     "output_type": "execute_result"
    }
   ],
   "source": [
    "a"
   ]
  },
  {
   "cell_type": "code",
   "execution_count": 95,
   "id": "2a05880d-2ac3-4de8-b5b4-4cfcd0b0e932",
   "metadata": {},
   "outputs": [],
   "source": [
    "b = a / 2"
   ]
  },
  {
   "cell_type": "code",
   "execution_count": 96,
   "id": "62914c5b-7ab6-41dd-bf84-aee899767ef0",
   "metadata": {},
   "outputs": [
    {
     "data": {
      "text/plain": [
       "15.0"
      ]
     },
     "execution_count": 96,
     "metadata": {},
     "output_type": "execute_result"
    }
   ],
   "source": [
    "b"
   ]
  },
  {
   "cell_type": "code",
   "execution_count": 97,
   "id": "2c76be0a-be56-447b-8dfb-d884e6e4563b",
   "metadata": {},
   "outputs": [],
   "source": [
    "c = a + b"
   ]
  },
  {
   "cell_type": "code",
   "execution_count": 98,
   "id": "f85f7f99-43a4-42f7-9dec-5163a21f557a",
   "metadata": {},
   "outputs": [
    {
     "data": {
      "text/plain": [
       "45.0"
      ]
     },
     "execution_count": 98,
     "metadata": {},
     "output_type": "execute_result"
    }
   ],
   "source": [
    "c"
   ]
  },
  {
   "cell_type": "code",
   "execution_count": 99,
   "id": "74668f5f-da9a-4ee2-9e35-73d67c85f2f9",
   "metadata": {},
   "outputs": [],
   "source": [
    "d = c - a + b"
   ]
  },
  {
   "cell_type": "code",
   "execution_count": 101,
   "id": "db5876e1-dcb5-4b16-93e8-bdd0159b3b90",
   "metadata": {
    "tags": []
   },
   "outputs": [
    {
     "data": {
      "text/plain": [
       "30.0"
      ]
     },
     "execution_count": 101,
     "metadata": {},
     "output_type": "execute_result"
    }
   ],
   "source": [
    "d"
   ]
  },
  {
   "cell_type": "code",
   "execution_count": 103,
   "id": "f8f3edfd-7f72-4e46-84e5-7bd609e898cc",
   "metadata": {},
   "outputs": [
    {
     "name": "stdout",
     "output_type": "stream",
     "text": [
      "This operator hold the value of variable as mentioned above\n"
     ]
    }
   ],
   "source": [
    "print ('This operator hold the value of variable as mentioned above')"
   ]
  }
 ],
 "metadata": {
  "kernelspec": {
   "display_name": "Python 3 (ipykernel)",
   "language": "python",
   "name": "python3"
  },
  "language_info": {
   "codemirror_mode": {
    "name": "ipython",
    "version": 3
   },
   "file_extension": ".py",
   "mimetype": "text/x-python",
   "name": "python",
   "nbconvert_exporter": "python",
   "pygments_lexer": "ipython3",
   "version": "3.10.8"
  }
 },
 "nbformat": 4,
 "nbformat_minor": 5
}
