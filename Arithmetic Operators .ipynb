{
 "cells": [
  {
   "cell_type": "code",
   "execution_count": 16,
   "id": "822447b8-b06c-490e-8814-b39d3898b2f8",
   "metadata": {},
   "outputs": [
    {
     "name": "stdout",
     "output_type": "stream",
     "text": [
      "Arithmetic Operators:-\n"
     ]
    }
   ],
   "source": [
    "print ('Arithmetic Operators:-')"
   ]
  },
  {
   "cell_type": "code",
   "execution_count": 17,
   "id": "7c168775-c573-4cb8-a6d9-ff09a6730398",
   "metadata": {},
   "outputs": [
    {
     "data": {
      "text/plain": [
       "20"
      ]
     },
     "execution_count": 17,
     "metadata": {},
     "output_type": "execute_result"
    }
   ],
   "source": [
    "10+10"
   ]
  },
  {
   "cell_type": "code",
   "execution_count": 18,
   "id": "9386f76f-d02c-4f15-834e-f9df2da09190",
   "metadata": {},
   "outputs": [
    {
     "data": {
      "text/plain": [
       "0"
      ]
     },
     "execution_count": 18,
     "metadata": {},
     "output_type": "execute_result"
    }
   ],
   "source": [
    "10-10"
   ]
  },
  {
   "cell_type": "code",
   "execution_count": 45,
   "id": "94af234b-629d-45ab-89c2-3561a9e84ab2",
   "metadata": {},
   "outputs": [
    {
     "data": {
      "text/plain": [
       "100"
      ]
     },
     "execution_count": 45,
     "metadata": {},
     "output_type": "execute_result"
    }
   ],
   "source": [
    "10*10"
   ]
  },
  {
   "cell_type": "code",
   "execution_count": 50,
   "id": "89da8c2f-b381-49d9-b152-399e06415147",
   "metadata": {},
   "outputs": [
    {
     "data": {
      "text/plain": [
       "1"
      ]
     },
     "execution_count": 50,
     "metadata": {},
     "output_type": "execute_result"
    }
   ],
   "source": [
    "4%3"
   ]
  },
  {
   "cell_type": "code",
   "execution_count": 95,
   "id": "3ab1c871-9283-4bc6-8769-89cfbac42e5f",
   "metadata": {},
   "outputs": [
    {
     "data": {
      "text/plain": [
       "64"
      ]
     },
     "execution_count": 95,
     "metadata": {},
     "output_type": "execute_result"
    }
   ],
   "source": [
    "4**3"
   ]
  },
  {
   "cell_type": "code",
   "execution_count": 111,
   "id": "f989c33f-f0ab-446f-be59-26b1b178b5e4",
   "metadata": {},
   "outputs": [
    {
     "data": {
      "text/plain": [
       "2"
      ]
     },
     "execution_count": 111,
     "metadata": {},
     "output_type": "execute_result"
    }
   ],
   "source": [
    "4//2"
   ]
  },
  {
   "cell_type": "code",
   "execution_count": 113,
   "id": "2d640fdb-be94-494c-8f89-dd28f28735ab",
   "metadata": {},
   "outputs": [
    {
     "name": "stdout",
     "output_type": "stream",
     "text": [
      "This all are called as Arithmetic Operators\n"
     ]
    }
   ],
   "source": [
    "print('This all are called as Arithmetic Operators')"
   ]
  },
  {
   "cell_type": "code",
   "execution_count": 6,
   "id": "5cd87904-9418-4817-a04c-dcdc7f55d4b1",
   "metadata": {},
   "outputs": [
    {
     "data": {
      "text/plain": [
       "7"
      ]
     },
     "execution_count": 6,
     "metadata": {},
     "output_type": "execute_result"
    }
   ],
   "source": [
    "4--3"
   ]
  },
  {
   "cell_type": "code",
   "execution_count": 8,
   "id": "dc3c1698-f940-4f6e-a290-1d69fa81e474",
   "metadata": {},
   "outputs": [
    {
     "data": {
      "text/plain": [
       "7"
      ]
     },
     "execution_count": 8,
     "metadata": {},
     "output_type": "execute_result"
    }
   ],
   "source": [
    "4++3"
   ]
  },
  {
   "cell_type": "code",
   "execution_count": 10,
   "id": "e69ba008-61af-4524-a7c0-06560a6f651b",
   "metadata": {},
   "outputs": [
    {
     "data": {
      "text/plain": [
       "64"
      ]
     },
     "execution_count": 10,
     "metadata": {},
     "output_type": "execute_result"
    }
   ],
   "source": [
    "4**3"
   ]
  },
  {
   "cell_type": "code",
   "execution_count": 12,
   "id": "03683285-1095-4407-9fb3-f97f9ed7c9c3",
   "metadata": {},
   "outputs": [
    {
     "data": {
      "text/plain": [
       "1"
      ]
     },
     "execution_count": 12,
     "metadata": {},
     "output_type": "execute_result"
    }
   ],
   "source": [
    "4//3"
   ]
  },
  {
   "cell_type": "code",
   "execution_count": 14,
   "id": "66fa2056-3be8-4923-b305-4bede7bbc85a",
   "metadata": {},
   "outputs": [
    {
     "name": "stdout",
     "output_type": "stream",
     "text": [
      "This all are sub operators of Arithmetic operators called Power Operators\n"
     ]
    }
   ],
   "source": [
    "print ('This all are sub operators of Arithmetic operators called Power Operators') "
   ]
  },
  {
   "cell_type": "code",
   "execution_count": 16,
   "id": "4a52b838-2258-4de2-99de-0d84615f8702",
   "metadata": {},
   "outputs": [
    {
     "data": {
      "text/plain": [
       "1"
      ]
     },
     "execution_count": 16,
     "metadata": {},
     "output_type": "execute_result"
    }
   ],
   "source": [
    "4%3"
   ]
  },
  {
   "cell_type": "code",
   "execution_count": 19,
   "id": "f64670b6-cc0f-4848-935f-79e44402955e",
   "metadata": {},
   "outputs": [
    {
     "name": "stdout",
     "output_type": "stream",
     "text": [
      "this % sign is used in Remainder Operator falls under arithmetic operator & output 1 is called as remainder\n"
     ]
    }
   ],
   "source": [
    "print ('this % sign is used in Remainder Operator falls under arithmetic operator & output 1 is called as remainder')"
   ]
  },
  {
   "cell_type": "code",
   "execution_count": null,
   "id": "78359d46-5a28-4120-a0ee-336f0b279a2a",
   "metadata": {},
   "outputs": [],
   "source": []
  }
 ],
 "metadata": {
  "kernelspec": {
   "display_name": "Python 3 (ipykernel)",
   "language": "python",
   "name": "python3"
  },
  "language_info": {
   "codemirror_mode": {
    "name": "ipython",
    "version": 3
   },
   "file_extension": ".py",
   "mimetype": "text/x-python",
   "name": "python",
   "nbconvert_exporter": "python",
   "pygments_lexer": "ipython3",
   "version": "3.10.8"
  }
 },
 "nbformat": 4,
 "nbformat_minor": 5
}
