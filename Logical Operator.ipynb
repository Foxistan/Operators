{
 "cells": [
  {
   "cell_type": "code",
   "execution_count": 41,
   "id": "e72caabf-5025-4c8e-ba1d-9967c8c04408",
   "metadata": {},
   "outputs": [
    {
     "name": "stdout",
     "output_type": "stream",
     "text": [
      "logical Operator (And / Or) Operator\n"
     ]
    }
   ],
   "source": [
    "print  ('logical Operator (And / Or) Operator')"
   ]
  },
  {
   "cell_type": "code",
   "execution_count": 42,
   "id": "b0ab1c8f-cf1f-42eb-8441-f3df75087a24",
   "metadata": {},
   "outputs": [
    {
     "name": "stdout",
     "output_type": "stream",
     "text": [
      "In \"AND\" table, only \"T & T\"would be True, rest will be false\n"
     ]
    }
   ],
   "source": [
    "print ('In \"AND\" table, only \"T & T\"would be True, rest will be false')"
   ]
  },
  {
   "cell_type": "code",
   "execution_count": 43,
   "id": "eef7d38d-152a-4452-af96-334f3f93a1cb",
   "metadata": {},
   "outputs": [
    {
     "name": "stdout",
     "output_type": "stream",
     "text": [
      "In \"OR\" table, only \"F & F\"would be False, rest will be true\n"
     ]
    }
   ],
   "source": [
    "print ('In \"OR\" table, only \"F & F\"would be False, rest will be true')"
   ]
  },
  {
   "cell_type": "code",
   "execution_count": 44,
   "id": "0ee0022e-95af-460f-b3c6-0d01c6a7b7c7",
   "metadata": {},
   "outputs": [
    {
     "data": {
      "text/plain": [
       "True"
      ]
     },
     "execution_count": 44,
     "metadata": {},
     "output_type": "execute_result"
    }
   ],
   "source": [
    "True & True"
   ]
  },
  {
   "cell_type": "code",
   "execution_count": 45,
   "id": "ee3f6b96-212d-4cf2-abb3-bf7577a70d0a",
   "metadata": {},
   "outputs": [
    {
     "data": {
      "text/plain": [
       "False"
      ]
     },
     "execution_count": 45,
     "metadata": {},
     "output_type": "execute_result"
    }
   ],
   "source": [
    "False & False"
   ]
  },
  {
   "cell_type": "code",
   "execution_count": 46,
   "id": "8516751d-b040-4760-ba80-738490ce25f9",
   "metadata": {},
   "outputs": [
    {
     "data": {
      "text/plain": [
       "False"
      ]
     },
     "execution_count": 46,
     "metadata": {},
     "output_type": "execute_result"
    }
   ],
   "source": [
    "True & False"
   ]
  },
  {
   "cell_type": "code",
   "execution_count": 47,
   "id": "a9c37b73-466d-49c4-8fca-ac0743eef322",
   "metadata": {},
   "outputs": [
    {
     "data": {
      "text/plain": [
       "False"
      ]
     },
     "execution_count": 47,
     "metadata": {},
     "output_type": "execute_result"
    }
   ],
   "source": [
    "False & True"
   ]
  },
  {
   "cell_type": "code",
   "execution_count": 48,
   "id": "a753eef6-b11b-4b50-84c8-59d654688140",
   "metadata": {},
   "outputs": [
    {
     "name": "stdout",
     "output_type": "stream",
     "text": [
      "Hence this are the examples of \"AND\" table\n"
     ]
    }
   ],
   "source": [
    "print ('Hence this are the examples of \"AND\" table')"
   ]
  },
  {
   "cell_type": "code",
   "execution_count": 49,
   "id": "80d8ad90-0a4e-4fbf-a96f-8d8827bc9d7a",
   "metadata": {},
   "outputs": [
    {
     "data": {
      "text/plain": [
       "True"
      ]
     },
     "execution_count": 49,
     "metadata": {},
     "output_type": "execute_result"
    }
   ],
   "source": [
    "True or False"
   ]
  },
  {
   "cell_type": "code",
   "execution_count": 51,
   "id": "459225e5-a971-4c90-ae8d-ae1c1725ca48",
   "metadata": {},
   "outputs": [
    {
     "data": {
      "text/plain": [
       "True"
      ]
     },
     "execution_count": 51,
     "metadata": {},
     "output_type": "execute_result"
    }
   ],
   "source": [
    "True or True"
   ]
  },
  {
   "cell_type": "code",
   "execution_count": 55,
   "id": "f647bdd7-203b-4ada-8d48-9fec2cfff477",
   "metadata": {},
   "outputs": [
    {
     "data": {
      "text/plain": [
       "True"
      ]
     },
     "execution_count": 55,
     "metadata": {},
     "output_type": "execute_result"
    }
   ],
   "source": [
    "False or True"
   ]
  },
  {
   "cell_type": "code",
   "execution_count": 58,
   "id": "0c211161-c731-4f6b-8a01-8dbe9bb6408c",
   "metadata": {},
   "outputs": [
    {
     "data": {
      "text/plain": [
       "False"
      ]
     },
     "execution_count": 58,
     "metadata": {},
     "output_type": "execute_result"
    }
   ],
   "source": [
    "False or False"
   ]
  },
  {
   "cell_type": "code",
   "execution_count": 60,
   "id": "83c44842-48b0-4938-9de9-4dbde0bbc9f3",
   "metadata": {},
   "outputs": [
    {
     "name": "stdout",
     "output_type": "stream",
     "text": [
      "Hence this are the examples of \"OR\" table\n"
     ]
    }
   ],
   "source": [
    "print ('Hence this are the examples of \"OR\" table')"
   ]
  },
  {
   "cell_type": "code",
   "execution_count": 62,
   "id": "92c657b7-f215-4a72-89a0-170bb2013400",
   "metadata": {},
   "outputs": [
    {
     "name": "stdout",
     "output_type": "stream",
     "text": [
      "Also:- \n"
     ]
    }
   ],
   "source": [
    "print ('Also:- ')"
   ]
  },
  {
   "cell_type": "code",
   "execution_count": 65,
   "id": "a637866f-8f9b-4b73-80e5-2e59c73b34db",
   "metadata": {},
   "outputs": [
    {
     "data": {
      "text/plain": [
       "False"
      ]
     },
     "execution_count": 65,
     "metadata": {},
     "output_type": "execute_result"
    }
   ],
   "source": [
    "not True "
   ]
  },
  {
   "cell_type": "code",
   "execution_count": 67,
   "id": "43f1933c-b9a6-4f3c-b0af-619c0eee403d",
   "metadata": {},
   "outputs": [
    {
     "data": {
      "text/plain": [
       "True"
      ]
     },
     "execution_count": 67,
     "metadata": {},
     "output_type": "execute_result"
    }
   ],
   "source": [
    "not False"
   ]
  },
  {
   "cell_type": "code",
   "execution_count": 79,
   "id": "2ee7f12a-a18c-47eb-9bb8-6085ab205042",
   "metadata": {},
   "outputs": [
    {
     "data": {
      "text/plain": [
       "True"
      ]
     },
     "execution_count": 79,
     "metadata": {},
     "output_type": "execute_result"
    }
   ],
   "source": [
    "not True &  False"
   ]
  },
  {
   "cell_type": "code",
   "execution_count": 81,
   "id": "f5dbb577-40d9-49d5-807e-952424e813ff",
   "metadata": {},
   "outputs": [
    {
     "data": {
      "text/plain": [
       "True"
      ]
     },
     "execution_count": 81,
     "metadata": {},
     "output_type": "execute_result"
    }
   ],
   "source": [
    "not False & True"
   ]
  },
  {
   "cell_type": "code",
   "execution_count": 83,
   "id": "4949137a-129e-48b7-9c1d-88f917e20df0",
   "metadata": {},
   "outputs": [
    {
     "data": {
      "text/plain": [
       "True"
      ]
     },
     "execution_count": 83,
     "metadata": {},
     "output_type": "execute_result"
    }
   ],
   "source": [
    "not True or True"
   ]
  },
  {
   "cell_type": "code",
   "execution_count": 85,
   "id": "1ba74685-3413-43ea-b0e7-f95acebf3466",
   "metadata": {},
   "outputs": [
    {
     "data": {
      "text/plain": [
       "True"
      ]
     },
     "execution_count": 85,
     "metadata": {},
     "output_type": "execute_result"
    }
   ],
   "source": [
    "not False or False"
   ]
  },
  {
   "cell_type": "code",
   "execution_count": 87,
   "id": "c8319f9f-ed05-4241-b2bc-3769c15b01c9",
   "metadata": {},
   "outputs": [
    {
     "name": "stdout",
     "output_type": "stream",
     "text": [
      "Hence this are the examples of Logical operators\n"
     ]
    }
   ],
   "source": [
    "print ('Hence this are the examples of Logical operators')"
   ]
  },
  {
   "cell_type": "code",
   "execution_count": 91,
   "id": "5c31c5df-de4d-4fd2-8d3e-ac62857659de",
   "metadata": {},
   "outputs": [
    {
     "name": "stdout",
     "output_type": "stream",
     "text": [
      "Note\"- True = 1 & False = 0\n"
     ]
    }
   ],
   "source": [
    "print('Note\"- True = 1 & False = 0')"
   ]
  }
 ],
 "metadata": {
  "kernelspec": {
   "display_name": "Python 3 (ipykernel)",
   "language": "python",
   "name": "python3"
  },
  "language_info": {
   "codemirror_mode": {
    "name": "ipython",
    "version": 3
   },
   "file_extension": ".py",
   "mimetype": "text/x-python",
   "name": "python",
   "nbconvert_exporter": "python",
   "pygments_lexer": "ipython3",
   "version": "3.10.8"
  }
 },
 "nbformat": 4,
 "nbformat_minor": 5
}
