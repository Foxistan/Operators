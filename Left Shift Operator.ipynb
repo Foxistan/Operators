{
 "cells": [
  {
   "cell_type": "code",
   "execution_count": 3,
   "id": "3344281a-859d-4bc4-be15-7e93641909ff",
   "metadata": {},
   "outputs": [
    {
     "name": "stdout",
     "output_type": "stream",
     "text": [
      "This Left Shift Operator(LSO) works opposite of RSO (Right Shift Operator)\n"
     ]
    }
   ],
   "source": [
    "print ('This Left Shift Operator(LSO) works opposite of RSO  (Right Shift Operator)')"
   ]
  },
  {
   "cell_type": "code",
   "execution_count": 5,
   "id": "f67c1dac-f326-45f4-baa8-3315f3016815",
   "metadata": {},
   "outputs": [
    {
     "data": {
      "text/plain": [
       "136"
      ]
     },
     "execution_count": 5,
     "metadata": {},
     "output_type": "execute_result"
    }
   ],
   "source": [
    "34<<2"
   ]
  },
  {
   "cell_type": "code",
   "execution_count": 7,
   "id": "a5ab665b-9a37-4d3a-b7f3-f559bb6642a0",
   "metadata": {},
   "outputs": [
    {
     "data": {
      "text/plain": [
       "'0b100010'"
      ]
     },
     "execution_count": 7,
     "metadata": {},
     "output_type": "execute_result"
    }
   ],
   "source": [
    "bin(34)"
   ]
  },
  {
   "cell_type": "code",
   "execution_count": 9,
   "id": "d9c53d9b-bfdd-4557-bd49-ac91be3d85fa",
   "metadata": {},
   "outputs": [
    {
     "name": "stdout",
     "output_type": "stream",
     "text": [
      "This moves to left side by adding same number of Bits in the right side\n"
     ]
    }
   ],
   "source": [
    "print('This moves to left side by adding same number of Bits in the right side')"
   ]
  },
  {
   "cell_type": "code",
   "execution_count": 11,
   "id": "dc91e46b-cbd6-4d90-a02a-ff55839fc98e",
   "metadata": {},
   "outputs": [
    {
     "data": {
      "text/plain": [
       "'0b10001000'"
      ]
     },
     "execution_count": 11,
     "metadata": {},
     "output_type": "execute_result"
    }
   ],
   "source": [
    "bin(136)"
   ]
  },
  {
   "cell_type": "code",
   "execution_count": 15,
   "id": "7811af29-1203-425d-b242-8ca88f8d3c33",
   "metadata": {},
   "outputs": [
    {
     "name": "stdout",
     "output_type": "stream",
     "text": [
      "Added '0' & '0' at the end of 100010 which makes new binary number to 10001000\n"
     ]
    }
   ],
   "source": [
    "print (\"Added '0' & '0' at the end of 100010 which makes new binary number to 10001000\")"
   ]
  },
  {
   "cell_type": "code",
   "execution_count": 16,
   "id": "cd4dac31-a644-4e70-b9e3-81283b3379d4",
   "metadata": {},
   "outputs": [
    {
     "name": "stdout",
     "output_type": "stream",
     "text": [
      "Decimal Equivalent of 10001000 is 136\n"
     ]
    }
   ],
   "source": [
    "print ('Decimal Equivalent of 10001000 is 136')"
   ]
  }
 ],
 "metadata": {
  "kernelspec": {
   "display_name": "Python 3 (ipykernel)",
   "language": "python",
   "name": "python3"
  },
  "language_info": {
   "codemirror_mode": {
    "name": "ipython",
    "version": 3
   },
   "file_extension": ".py",
   "mimetype": "text/x-python",
   "name": "python",
   "nbconvert_exporter": "python",
   "pygments_lexer": "ipython3",
   "version": "3.10.8"
  }
 },
 "nbformat": 4,
 "nbformat_minor": 5
}
