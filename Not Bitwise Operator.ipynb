{
 "cells": [
  {
   "cell_type": "code",
   "execution_count": 28,
   "id": "82ee60de-b07e-45d0-894a-20c5400a3a4d",
   "metadata": {},
   "outputs": [
    {
     "data": {
      "text/plain": [
       "-51"
      ]
     },
     "execution_count": 28,
     "metadata": {},
     "output_type": "execute_result"
    }
   ],
   "source": [
    "~50"
   ]
  },
  {
   "cell_type": "code",
   "execution_count": 30,
   "id": "9177e15f-15ae-4218-90be-ad6f23202e7b",
   "metadata": {},
   "outputs": [
    {
     "data": {
      "text/plain": [
       "'0b110010'"
      ]
     },
     "execution_count": 30,
     "metadata": {},
     "output_type": "execute_result"
    }
   ],
   "source": [
    "bin(50)"
   ]
  },
  {
   "cell_type": "code",
   "execution_count": 32,
   "id": "66c71dac-5bf9-456f-979c-d2ef3a2b7658",
   "metadata": {},
   "outputs": [
    {
     "data": {
      "text/plain": [
       "'-0b110011'"
      ]
     },
     "execution_count": 32,
     "metadata": {},
     "output_type": "execute_result"
    }
   ],
   "source": [
    "bin(-51)"
   ]
  },
  {
   "cell_type": "code",
   "execution_count": 34,
   "id": "1246d57b-a069-4da3-945f-3487df75a630",
   "metadata": {},
   "outputs": [
    {
     "data": {
      "text/plain": [
       "-30"
      ]
     },
     "execution_count": 34,
     "metadata": {},
     "output_type": "execute_result"
    }
   ],
   "source": [
    "~29"
   ]
  },
  {
   "cell_type": "code",
   "execution_count": 38,
   "id": "38e6c0b5-3110-4ca8-98c7-6d9a2c6741af",
   "metadata": {},
   "outputs": [
    {
     "data": {
      "text/plain": [
       "'0b11101'"
      ]
     },
     "execution_count": 38,
     "metadata": {},
     "output_type": "execute_result"
    }
   ],
   "source": [
    "bin(29)"
   ]
  },
  {
   "cell_type": "code",
   "execution_count": 40,
   "id": "fbeb8bea-7077-4642-b693-57c39df5d16b",
   "metadata": {},
   "outputs": [
    {
     "data": {
      "text/plain": [
       "'-0b11110'"
      ]
     },
     "execution_count": 40,
     "metadata": {},
     "output_type": "execute_result"
    }
   ],
   "source": [
    "bin(-30)"
   ]
  },
  {
   "cell_type": "code",
   "execution_count": 42,
   "id": "c32acca8-afe7-4b5a-a0a8-4a2e9e009e08",
   "metadata": {},
   "outputs": [
    {
     "name": "stdout",
     "output_type": "stream",
     "text": [
      "This operator put \"-\" sign in the beginning of binary number & +1 from right bit\n"
     ]
    }
   ],
   "source": [
    "print ('This operator put \"-\" sign in the beginning of binary number & +1 from right bit')"
   ]
  },
  {
   "cell_type": "code",
   "execution_count": 43,
   "id": "00f1ca9c-638b-4b6a-88b0-1fffff5adb81",
   "metadata": {},
   "outputs": [
    {
     "name": "stdout",
     "output_type": "stream",
     "text": [
      "so 0b11101 will change to -0b11110 which is -30 in decimal equivalent\n"
     ]
    }
   ],
   "source": [
    "print ('so 0b11101 will change to -0b11110 which is -30 in decimal equivalent')"
   ]
  }
 ],
 "metadata": {
  "kernelspec": {
   "display_name": "Python 3 (ipykernel)",
   "language": "python",
   "name": "python3"
  },
  "language_info": {
   "codemirror_mode": {
    "name": "ipython",
    "version": 3
   },
   "file_extension": ".py",
   "mimetype": "text/x-python",
   "name": "python",
   "nbconvert_exporter": "python",
   "pygments_lexer": "ipython3",
   "version": "3.10.8"
  }
 },
 "nbformat": 4,
 "nbformat_minor": 5
}
